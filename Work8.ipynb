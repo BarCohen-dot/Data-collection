{
  "nbformat": 4,
  "nbformat_minor": 0,
  "metadata": {
    "colab": {
      "provenance": []
    },
    "kernelspec": {
      "name": "python3",
      "display_name": "Python 3"
    },
    "language_info": {
      "name": "python"
    }
  },
  "cells": [
    {
      "cell_type": "code",
      "execution_count": null,
      "metadata": {
        "id": "PZvWrbQWwU39",
        "colab": {
          "base_uri": "https://localhost:8080/"
        },
        "outputId": "5daf5091-ed1a-44d7-a229-f11cfd4a1ff8"
      },
      "outputs": [
        {
          "output_type": "stream",
          "name": "stdout",
          "text": [
            "Collecting praw\n",
            "  Downloading praw-7.7.1-py3-none-any.whl (191 kB)\n",
            "\u001b[2K     \u001b[90m━━━━━━━━━━━━━━━━━━━━━━━━━━━━━━━━━━━━━━━━\u001b[0m \u001b[32m191.0/191.0 kB\u001b[0m \u001b[31m1.4 MB/s\u001b[0m eta \u001b[36m0:00:00\u001b[0m\n",
            "\u001b[?25hCollecting prawcore<3,>=2.1 (from praw)\n",
            "  Downloading prawcore-2.4.0-py3-none-any.whl (17 kB)\n",
            "Collecting update-checker>=0.18 (from praw)\n",
            "  Downloading update_checker-0.18.0-py3-none-any.whl (7.0 kB)\n",
            "Requirement already satisfied: websocket-client>=0.54.0 in /usr/local/lib/python3.10/dist-packages (from praw) (1.8.0)\n",
            "Requirement already satisfied: requests<3.0,>=2.6.0 in /usr/local/lib/python3.10/dist-packages (from prawcore<3,>=2.1->praw) (2.31.0)\n",
            "Requirement already satisfied: charset-normalizer<4,>=2 in /usr/local/lib/python3.10/dist-packages (from requests<3.0,>=2.6.0->prawcore<3,>=2.1->praw) (3.3.2)\n",
            "Requirement already satisfied: idna<4,>=2.5 in /usr/local/lib/python3.10/dist-packages (from requests<3.0,>=2.6.0->prawcore<3,>=2.1->praw) (3.7)\n",
            "Requirement already satisfied: urllib3<3,>=1.21.1 in /usr/local/lib/python3.10/dist-packages (from requests<3.0,>=2.6.0->prawcore<3,>=2.1->praw) (2.0.7)\n",
            "Requirement already satisfied: certifi>=2017.4.17 in /usr/local/lib/python3.10/dist-packages (from requests<3.0,>=2.6.0->prawcore<3,>=2.1->praw) (2024.6.2)\n",
            "Installing collected packages: update-checker, prawcore, praw\n",
            "Successfully installed praw-7.7.1 prawcore-2.4.0 update-checker-0.18.0\n"
          ]
        }
      ],
      "source": [
        "!pip install praw #API לתקשורת מול PRAW התקנת ספריית\n",
        "                  # '!' = מסמל כי יש צורך להוריד"
      ]
    },
    {
      "cell_type": "code",
      "source": [
        "import praw\n",
        "import csv\n",
        "\n",
        "# Reddit פרטי המידע האישי מאזור המפתחים של\n",
        "client_id = 'dadvccn22uPqgoIXtFu5Bw'              # client id\n",
        "client_secret = '_1ig-b0Ku2-AmOxQY81UxxJVR8UvUw'  # client secret\n",
        "user_agent = 'Bar Cohen'                          # user agent\n",
        "\n",
        "# שליחה לבנאי - Reddit יצירת אובייקט\n",
        "reddit = praw.Reddit(\n",
        "                    client_id=client_id,\n",
        "                    client_secret=client_secret,\n",
        "                    user_agent=user_agent\n",
        "                    )\n",
        "\n",
        "subreddits = [\"EatingDisorders\",\"domesticviolence\"] # נושאים שנרצה לחפש\n",
        "posts = []                                          # יצירת רשימת פוסטים\n",
        "Index = 1                                           # לצורך ספירת כמות הפוסטים\n",
        "\n",
        "for subreddit_name in subreddits:                   # עוברים על הנושאים שבחרנו בלולאה\n",
        "\n",
        "    subreddit = reddit.subreddit(subreddit_name)    # יצירת אובייקט לאותו הנושא עליו אנו עומדים\n",
        "\n",
        "    for submission in subreddit.new( limit = 100 ): # קבלת 100 הפוסטים האחרונים (אם יש?) מהנושא עליו אנו עומדים\n",
        "                                                    # new מעבר ל hot/top ניתן לכתוב גם\n",
        "        post_details = [ Index,\n",
        "                         submission.id,\n",
        "                         submission.author,\n",
        "                         submission.title,\n",
        "                         submission.selftext,\n",
        "                         submission.num_comments,\n",
        "                         submission.score\n",
        "                        ]\n",
        "        posts.append(post_details) # נוסיף את המידע של הפוסט אל רשימת הפוסטים\n",
        "        Index += 1\n",
        "\n",
        "    csv_filename = \"Posts_From_Reddit.csv\" # הגדרת שם לקובץ\n",
        "\n",
        "    with open(csv_filename, mode='w', newline='', encoding='utf-8') as file:        # utf-8 נגדיר את מצב הקובץ לכתיבה + הגדרת שורה חדשה (נשתמש בה לצורך כתיבת הפוסטים -> לכול שורה פוסט) + קריאת כול השפות ע״פ הקוד הידוע\n",
        "\n",
        "        writer = csv.writer(file)                                                   # CSV הגדרת פורמט הקובץ ל\n",
        "        writer.writerow( ['Index','Post ID', 'Author', 'Title', 'Text', 'Number of Comments', 'Score'] ) # נסדר את פורמפ הכתיבה אשר יופיע בתוך הקובץ - פורמט סידור המידע לכול פוסט\n",
        "        writer.writerows(posts)                                                     # נכתוב/נעתיק את המידע מתוך רשימת הפוסטים\n",
        "\n",
        "        print(f\"File '{csv_filename}' created successfully.\")\n"
      ],
      "metadata": {
        "colab": {
          "base_uri": "https://localhost:8080/"
        },
        "id": "dMjxL0LF8H8M",
        "outputId": "0b95fd09-b208-49e4-e051-e7862255a99f"
      },
      "execution_count": null,
      "outputs": [
        {
          "output_type": "stream",
          "name": "stderr",
          "text": [
            "WARNING:praw:It appears that you are using PRAW in an asynchronous environment.\n",
            "It is strongly recommended to use Async PRAW: https://asyncpraw.readthedocs.io.\n",
            "See https://praw.readthedocs.io/en/latest/getting_started/multiple_instances.html#discord-bots-and-asynchronous-environments for more info.\n",
            "\n",
            "WARNING:praw:It appears that you are using PRAW in an asynchronous environment.\n",
            "It is strongly recommended to use Async PRAW: https://asyncpraw.readthedocs.io.\n",
            "See https://praw.readthedocs.io/en/latest/getting_started/multiple_instances.html#discord-bots-and-asynchronous-environments for more info.\n",
            "\n"
          ]
        },
        {
          "output_type": "stream",
          "name": "stdout",
          "text": [
            "File 'Posts_From_Reddit.csv' created successfully.\n",
            "File 'Posts_From_Reddit.csv' created successfully.\n"
          ]
        }
      ]
    }
  ]
}