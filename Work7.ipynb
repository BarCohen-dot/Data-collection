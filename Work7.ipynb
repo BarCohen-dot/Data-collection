{
  "nbformat": 4,
  "nbformat_minor": 0,
  "metadata": {
    "colab": {
      "provenance": []
    },
    "kernelspec": {
      "name": "python3",
      "display_name": "Python 3"
    },
    "language_info": {
      "name": "python"
    }
  },
  "cells": [
    {
      "cell_type": "code",
      "source": [
        "import csv          # CSV - סיפריית עזר לקבצי\n",
        "import wikipediaapi # סיפריית עזר לויקיפדיה\n",
        "                                                                                         # בנאי - User-Agent של ויקיפדיה באנגלית עם ה API - אתחול ה\n",
        "wiki_wiki = wikipediaapi.Wikipedia(language='en', user_agent='my-wikipedia-scraper/1.0') # User-Agent כדי לעמוד במדיניות שימוש של ויקיפדיה, נגדיר\n",
        "\n",
        "def get_wikipedia_page_content(page_name): # פונקציה אשר תקבל שם של מפורסם\n",
        "\n",
        "    page = wiki_wiki.page(page_name)\n",
        "    if page.exists():    # אם הדף אכן נמצא, כלומר יש למפורסם דף בויקיפדיה אז\n",
        "        return page.text # נחזיר את הטקסט/תוכן הקיים בו\n",
        "    else:\n",
        "        print(f\"Page '{page_name}' does not exist on Wikipedia.\") # אם לא נמצא אז נוציא הודעה על כך\n",
        "        return '';\n",
        "\n",
        "input_csv = '/content/person.csv'        # colab - משיכת הנתונים מתוך הקובץ שהורדנו ל\n",
        "output_csv = 'Celebrities_wikipedia.csv' # הגדרת קובץ חדש לצורך שמירת הנתונים החדשים\n",
        "\n",
        "with open(input_csv, mode='r', encoding='utf-8') as File_To_Reader, open(output_csv, mode='w', encoding='utf-8', newline='') as File_To_Save:\n",
        "\n",
        "    reader = csv.reader(File_To_Reader)                 # ביצוע סריקת / קריאת הקובץ\n",
        "\n",
        "    writer = csv.writer(File_To_Save)                   # ביצוע כתיבה אל תוך הקובץ\n",
        "    writer.writerow(['Celebrity_name', 'Page_content']) # כדי לכתוב את הכותרות המבוקשות writer.writerow אנו משתמשים בפעולת\n",
        "\n",
        "    next(reader)       # כיוון שאין צורך לעבור עליהם input_csv - נדלג על הכותרות בקובץ הקלט\n",
        "\n",
        "    for row in reader: # נעבור על אותם האנשים ונחלץ את המידע\n",
        "        try:\n",
        "\n",
        "            celebrity_name = row[0].strip()   # המרת הערך לשם המפורסם ע״י מיקום והסרת רווחים מיותרים\n",
        "                                              # משמש כאן כ - ״רץ״ ,הוא זה שיביא לנו בכול פעם את שמות המפורסמים row - ה\n",
        "            page_content = get_wikipedia_page_content(celebrity_name) # עם שם המפורסם, נחפש את דף הויקיפדיה שלו ע״י פונקציית העזר שבנינו\n",
        "            writer.writerow([celebrity_name, page_content])           # נכתוב / נוסיף את המידע אל תוך קובץ השמירה\n",
        "\n",
        "        except Exception as e:\n",
        "            print(f\" An error occurred while processing page of '{row[0]}' : {e} \")\n",
        "\n",
        "print(f'A new CSV file is created : {output_csv}')\n"
      ],
      "metadata": {
        "colab": {
          "base_uri": "https://localhost:8080/"
        },
        "id": "pVPYvQ39TLkl",
        "outputId": "b24e1bec-c270-4654-e905-da0ddf7847a0"
      },
      "execution_count": null,
      "outputs": [
        {
          "output_type": "stream",
          "name": "stdout",
          "text": [
            "A new CSV file is created : Celebrities_wikipedia.csv\n"
          ]
        }
      ]
    }
  ]
}