{
  "nbformat": 4,
  "nbformat_minor": 0,
  "metadata": {
    "colab": {
      "provenance": []
    },
    "kernelspec": {
      "name": "python3",
      "display_name": "Python 3"
    },
    "language_info": {
      "name": "python"
    }
  },
  "cells": [
    {
      "cell_type": "code",
      "execution_count": null,
      "metadata": {
        "colab": {
          "base_uri": "https://localhost:8080/"
        },
        "id": "nvUcFY2R5jaj",
        "outputId": "7c076ef4-ba0e-4aca-8047-10250834a0ab"
      },
      "outputs": [
        {
          "output_type": "stream",
          "name": "stdout",
          "text": [
            "copyright: (Team F.A.C.T.)\n",
            "\n",
            "date: 2024-06-03\n",
            "\n",
            "explanation: Magnificent island universe NGC 2403 stands within the boundaries of the long-necked constellation Camelopardalis. Some 10 million light-years distant and about 50,000 light-years across, the spiral galaxy also seems to have more than its fair share of giant star forming HII regions, marked by the telltale reddish glow of atomic hydrogen gas. The giant HII regions are energized by clusters of hot, massive stars that explode as bright supernovae at the end of their short and furious lives. A member of the M81 group of galaxies, NGC 2403 closely resembles a galaxy in our own local galaxy group with an abundance of star forming regions, M33, the Triangulum Galaxy. Spiky in appearance, bright stars in this portrait of NGC 2403 are in the foreground, within our own Milky Way. Also in the foreground of the deep, wide-field, telescopic image are the Milky Way's dim and dusty interstellar clouds also known as galactic cirrus or integrated flux nebulae. But faint features that seem to extend from NGC 2403 itself are likely tidal stellar streams drawn out by gravitational interactions with neighboring galaxies.\n",
            "\n",
            "hdurl: https://apod.nasa.gov/apod/image/2405/NGC2403-LRGB+Ha+Oiii-v25-f.jpg\n",
            "\n",
            "media_type: image\n",
            "\n",
            "service_version: v1\n",
            "\n",
            "title: NGC 2403 in Camelopardalis\n",
            "\n",
            "url: https://apod.nasa.gov/apod/image/2405/NGC2403-LRGB+Ha+Oiii-v25-f1024.jpg\n",
            "\n"
          ]
        }
      ],
      "source": [
        "import requests\n",
        "\n",
        "def fetch_apod(api_key, date=None, hd=False, count=None):\n",
        "    url = \"https://api.nasa.gov/planetary/apod\"  # GET : https://api.nasa.gov/planetary/apod ,שנתון באתר Get קישור\n",
        "\n",
        "    params = {                 # הגדרת פרמטרים לבקשה\n",
        "        \"api_key\": api_key,    #  API מפתח\n",
        "        \"date\": date,          # תאריך התמונה (אופציונלי, ברירת מחדל להיום)\n",
        "        \"hd\": hd,              # האם להחזיר את הקישור לתמונה ברזולוציה גבוהה (אופציונלי)\n",
        "        \"count\": count         # מספר תמונות אקראיות (אופציונלי)\n",
        "    }\n",
        "\n",
        "    try:\n",
        "        response = requests.get(url, params=params)  # עם הפרמטרים GET-API ביצוע בקשת\n",
        "        response.raise_for_status()                  # בדיקת קוד הסטטוס מהאתר\n",
        "\n",
        "        if response.status_code == 200:  # - אם קוד הסטטוס הוא 200 אז\n",
        "            data = response.json()       # JSON המרת התגובה לפורמט\n",
        "            # JSON הדפסת הדאטה מתוך קובץ ה\n",
        "            print(\"Copyright:\", data[\"copyright\"]+ \"\\n\")\n",
        "            print(\"Date:\", data[\"date\"]+ \"\\n\")\n",
        "            print(\"Explanation:\", data[\"explanation\"]+ \"\\n\")\n",
        "            print(\"HD-URL:\", data[\"hdurl\"]+ \"\\n\")\n",
        "            print(\"Media_type:\", data[\"media_type\"]+ \"\\n\")\n",
        "            print(\"Service_version:\", data[\"service_version\"]+ \"\\n\")\n",
        "            print(\"Title:\", data[\"title\"]+ \"\\n\")\n",
        "            print(\"URL:\", data[\"url\"]+ \"\\n\")\n",
        "\n",
        "        else: # הדפסת קוד תקלה במידה ולא ניתנה הגישה לאתר\n",
        "            print(f\"Error: A status code was received - {response.status_code}\")\n",
        "\n",
        "    except requests.exceptions.RequestException as e:  # HTTP טיפול בשגיאות\n",
        "        print(f\"An error occurred: {e}\")\n",
        "\n",
        "api_key = \"aoj0EV8AtZUv9RgXzG3djwE6UH0w6Xb3NWYa6cvt\"   # נכניס את המפתח שקיבלנו מהאתר\n",
        "fetch_apod(api_key)\n"
      ]
    }
  ]
}